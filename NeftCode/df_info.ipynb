{
 "cells": [
  {
   "cell_type": "code",
   "execution_count": 3,
   "id": "62c146c3",
   "metadata": {},
   "outputs": [],
   "source": [
    "import pandas as pd \n",
    "import numpy as np\n",
    "from matplotlib import pyplot as pl"
   ]
  },
  {
   "cell_type": "code",
   "execution_count": 5,
   "id": "7b78728a",
   "metadata": {},
   "outputs": [
    {
     "data": {
      "text/html": [
       "<div>\n",
       "<style scoped>\n",
       "    .dataframe tbody tr th:only-of-type {\n",
       "        vertical-align: middle;\n",
       "    }\n",
       "\n",
       "    .dataframe tbody tr th {\n",
       "        vertical-align: top;\n",
       "    }\n",
       "\n",
       "    .dataframe thead th {\n",
       "        text-align: right;\n",
       "    }\n",
       "</style>\n",
       "<table border=\"1\" class=\"dataframe\">\n",
       "  <thead>\n",
       "    <tr style=\"text-align: right;\">\n",
       "      <th></th>\n",
       "      <th>MEASURED_IN_DATE</th>\n",
       "      <th>WELL_NAME</th>\n",
       "      <th>KCHARWORK</th>\n",
       "      <th>CHARWORK</th>\n",
       "      <th>MEASURED_IN</th>\n",
       "      <th>LIQ_RATE</th>\n",
       "      <th>WATER_CUT</th>\n",
       "      <th>P_ZAB</th>\n",
       "      <th>INTAKE</th>\n",
       "      <th>WELLHEAD_PRESSURE</th>\n",
       "      <th>IS_WORKING</th>\n",
       "    </tr>\n",
       "  </thead>\n",
       "  <tbody>\n",
       "    <tr>\n",
       "      <th>0</th>\n",
       "      <td>2017-02-01 00:00:00</td>\n",
       "      <td>9e4912342a7d40c2a7bcd2f62852ad91ea0923333d0f55...</td>\n",
       "      <td>20.0</td>\n",
       "      <td>НАГ</td>\n",
       "      <td>2017-02-01 12:00:00</td>\n",
       "      <td>0.0</td>\n",
       "      <td>0.0</td>\n",
       "      <td>NaN</td>\n",
       "      <td>225.0</td>\n",
       "      <td>150.0</td>\n",
       "      <td>True</td>\n",
       "    </tr>\n",
       "    <tr>\n",
       "      <th>1</th>\n",
       "      <td>2017-02-02 00:00:00</td>\n",
       "      <td>9e4912342a7d40c2a7bcd2f62852ad91ea0923333d0f55...</td>\n",
       "      <td>20.0</td>\n",
       "      <td>НАГ</td>\n",
       "      <td>2017-02-02 00:00:00</td>\n",
       "      <td>0.0</td>\n",
       "      <td>0.0</td>\n",
       "      <td>NaN</td>\n",
       "      <td>225.0</td>\n",
       "      <td>150.0</td>\n",
       "      <td>True</td>\n",
       "    </tr>\n",
       "    <tr>\n",
       "      <th>2</th>\n",
       "      <td>2017-02-03 00:00:00</td>\n",
       "      <td>9e4912342a7d40c2a7bcd2f62852ad91ea0923333d0f55...</td>\n",
       "      <td>20.0</td>\n",
       "      <td>НАГ</td>\n",
       "      <td>2017-02-03 00:00:00</td>\n",
       "      <td>0.0</td>\n",
       "      <td>0.0</td>\n",
       "      <td>NaN</td>\n",
       "      <td>225.0</td>\n",
       "      <td>150.0</td>\n",
       "      <td>True</td>\n",
       "    </tr>\n",
       "    <tr>\n",
       "      <th>3</th>\n",
       "      <td>2017-02-04 00:00:00</td>\n",
       "      <td>9e4912342a7d40c2a7bcd2f62852ad91ea0923333d0f55...</td>\n",
       "      <td>20.0</td>\n",
       "      <td>НАГ</td>\n",
       "      <td>2017-02-04 00:00:00</td>\n",
       "      <td>0.0</td>\n",
       "      <td>0.0</td>\n",
       "      <td>NaN</td>\n",
       "      <td>225.0</td>\n",
       "      <td>150.0</td>\n",
       "      <td>True</td>\n",
       "    </tr>\n",
       "    <tr>\n",
       "      <th>4</th>\n",
       "      <td>2017-02-05 00:00:00</td>\n",
       "      <td>9e4912342a7d40c2a7bcd2f62852ad91ea0923333d0f55...</td>\n",
       "      <td>20.0</td>\n",
       "      <td>НАГ</td>\n",
       "      <td>2017-02-05 00:00:00</td>\n",
       "      <td>0.0</td>\n",
       "      <td>0.0</td>\n",
       "      <td>NaN</td>\n",
       "      <td>225.0</td>\n",
       "      <td>150.0</td>\n",
       "      <td>True</td>\n",
       "    </tr>\n",
       "  </tbody>\n",
       "</table>\n",
       "</div>"
      ],
      "text/plain": [
       "      MEASURED_IN_DATE                                          WELL_NAME  \\\n",
       "0  2017-02-01 00:00:00  9e4912342a7d40c2a7bcd2f62852ad91ea0923333d0f55...   \n",
       "1  2017-02-02 00:00:00  9e4912342a7d40c2a7bcd2f62852ad91ea0923333d0f55...   \n",
       "2  2017-02-03 00:00:00  9e4912342a7d40c2a7bcd2f62852ad91ea0923333d0f55...   \n",
       "3  2017-02-04 00:00:00  9e4912342a7d40c2a7bcd2f62852ad91ea0923333d0f55...   \n",
       "4  2017-02-05 00:00:00  9e4912342a7d40c2a7bcd2f62852ad91ea0923333d0f55...   \n",
       "\n",
       "   KCHARWORK CHARWORK          MEASURED_IN  LIQ_RATE  WATER_CUT  P_ZAB  \\\n",
       "0       20.0      НАГ  2017-02-01 12:00:00       0.0        0.0    NaN   \n",
       "1       20.0      НАГ  2017-02-02 00:00:00       0.0        0.0    NaN   \n",
       "2       20.0      НАГ  2017-02-03 00:00:00       0.0        0.0    NaN   \n",
       "3       20.0      НАГ  2017-02-04 00:00:00       0.0        0.0    NaN   \n",
       "4       20.0      НАГ  2017-02-05 00:00:00       0.0        0.0    NaN   \n",
       "\n",
       "   INTAKE  WELLHEAD_PRESSURE  IS_WORKING  \n",
       "0   225.0              150.0        True  \n",
       "1   225.0              150.0        True  \n",
       "2   225.0              150.0        True  \n",
       "3   225.0              150.0        True  \n",
       "4   225.0              150.0        True  "
      ]
     },
     "execution_count": 5,
     "metadata": {},
     "output_type": "execute_result"
    }
   ],
   "source": [
    "df_train = pd.read_csv('train_data.csv')\n",
    "df_train.head(5)"
   ]
  },
  {
   "cell_type": "code",
   "execution_count": 7,
   "id": "b4d4c557",
   "metadata": {},
   "outputs": [
    {
     "name": "stdout",
     "output_type": "stream",
     "text": [
      "<class 'pandas.core.frame.DataFrame'>\n",
      "RangeIndex: 177575 entries, 0 to 177574\n",
      "Data columns (total 11 columns):\n",
      " #   Column             Non-Null Count   Dtype  \n",
      "---  ------             --------------   -----  \n",
      " 0   MEASURED_IN_DATE   177575 non-null  object \n",
      " 1   WELL_NAME          177575 non-null  object \n",
      " 2   KCHARWORK          177575 non-null  float64\n",
      " 3   CHARWORK           177575 non-null  object \n",
      " 4   MEASURED_IN        177575 non-null  object \n",
      " 5   LIQ_RATE           177575 non-null  float64\n",
      " 6   WATER_CUT          177575 non-null  float64\n",
      " 7   P_ZAB              166194 non-null  float64\n",
      " 8   INTAKE             177575 non-null  float64\n",
      " 9   WELLHEAD_PRESSURE  50393 non-null   float64\n",
      " 10  IS_WORKING         177575 non-null  bool   \n",
      "dtypes: bool(1), float64(6), object(4)\n",
      "memory usage: 13.7+ MB\n"
     ]
    }
   ],
   "source": [
    "df_train.info()"
   ]
  },
  {
   "cell_type": "markdown",
   "id": "079fd6ec",
   "metadata": {},
   "source": [
    "### MEASURED_IN_DATE - дата замера"
   ]
  },
  {
   "cell_type": "code",
   "execution_count": 13,
   "id": "144688a7",
   "metadata": {},
   "outputs": [
    {
     "data": {
      "text/plain": [
       "2022-02-19 00:00:00    237\n",
       "2022-02-10 00:00:00    236\n",
       "2022-02-18 00:00:00    236\n",
       "2022-02-17 00:00:00    236\n",
       "2022-02-11 00:00:00    236\n",
       "                      ... \n",
       "2016-08-24 00:00:00      1\n",
       "2016-08-25 00:00:00      1\n",
       "2016-08-26 00:00:00      1\n",
       "2016-08-12 00:00:00      1\n",
       "2016-08-11 00:00:00      1\n",
       "Name: MEASURED_IN_DATE, Length: 2122, dtype: int64"
      ]
     },
     "execution_count": 13,
     "metadata": {},
     "output_type": "execute_result"
    }
   ],
   "source": [
    "df_train['MEASURED_IN_DATE'].value_counts()"
   ]
  },
  {
   "cell_type": "code",
   "execution_count": 16,
   "id": "ace0c8da",
   "metadata": {},
   "outputs": [
    {
     "data": {
      "text/plain": [
       "array(['2017-02-01 00:00:00', '2017-02-02 00:00:00',\n",
       "       '2017-02-03 00:00:00', ..., '2016-10-10 00:00:00',\n",
       "       '2016-10-11 00:00:00', '2016-10-12 00:00:00'], dtype=object)"
      ]
     },
     "execution_count": 16,
     "metadata": {},
     "output_type": "execute_result"
    }
   ],
   "source": [
    "df_train['MEASURED_IN_DATE'].unique()"
   ]
  },
  {
   "cell_type": "code",
   "execution_count": 17,
   "id": "0214c85c",
   "metadata": {},
   "outputs": [
    {
     "data": {
      "text/plain": [
       "0   2017-02-01\n",
       "1   2017-02-02\n",
       "2   2017-02-03\n",
       "3   2017-02-04\n",
       "4   2017-02-05\n",
       "Name: MEASURED_IN_DATE, dtype: datetime64[ns]"
      ]
     },
     "execution_count": 17,
     "metadata": {},
     "output_type": "execute_result"
    }
   ],
   "source": [
    "df_train['MEASURED_IN_DATE'] = pd.to_datetime(df_train['MEASURED_IN_DATE'])  # без времени, нах оно вообще\n",
    "df_train.MEASURED_IN_DATE.head()"
   ]
  },
  {
   "cell_type": "markdown",
   "id": "40305b5b",
   "metadata": {},
   "source": [
    "### WELL_NAME - название скважины (хеш)"
   ]
  },
  {
   "cell_type": "code",
   "execution_count": 18,
   "id": "f84b3506",
   "metadata": {},
   "outputs": [
    {
     "data": {
      "text/plain": [
       "0    9e4912342a7d40c2a7bcd2f62852ad91ea0923333d0f55...\n",
       "1    9e4912342a7d40c2a7bcd2f62852ad91ea0923333d0f55...\n",
       "2    9e4912342a7d40c2a7bcd2f62852ad91ea0923333d0f55...\n",
       "3    9e4912342a7d40c2a7bcd2f62852ad91ea0923333d0f55...\n",
       "4    9e4912342a7d40c2a7bcd2f62852ad91ea0923333d0f55...\n",
       "Name: WELL_NAME, dtype: object"
      ]
     },
     "execution_count": 18,
     "metadata": {},
     "output_type": "execute_result"
    }
   ],
   "source": [
    "df_train['WELL_NAME'].head()"
   ]
  },
  {
   "cell_type": "code",
   "execution_count": 20,
   "id": "0429d648",
   "metadata": {},
   "outputs": [
    {
     "data": {
      "text/plain": [
       "52bbe66ef9a85fe24d6316b76ab1a031425d6347309408cc0c567c495072013d    1785\n",
       "30c0c46c2c9237e4974b9eb606b62997183a96f0e6c4d271185fd80b0c7f1e9f    1756\n",
       "aebc60b8446bd0a77ff9f51006a8d675f29b1a90d5fac29b1ac755b9a9b31cb8    1742\n",
       "cb9891b52b15cf1707933d8b826ba577d62c7db0b737c2d93dc16f872bdd15d4    1739\n",
       "b62c02291153de16e2fa26cd270acfdb173eaa3b8c09d715ee7d4fa97c9ce6b7    1719\n",
       "                                                                    ... \n",
       "37ab19dd86d58afdbc05b7d2277e54f59c326e47ca6c51b4df4a3fec1d7c4799      29\n",
       "2e22155c7f6a0a6080b87a130da7fced91022e48fb48532f49b61cc420e0f848      28\n",
       "25376dacefd71544684fd4a4f997ca419f9ff5348aa6818eacca23311970cd3f      26\n",
       "d6c5adc9c487ec80025afad989bf2773784300dff31ded5d7f55946f18cc1963       9\n",
       "0b91402ba2f480687938fa3fa7ec844380c578a46df9b2bc2884daf8dbf8b540       2\n",
       "Name: WELL_NAME, Length: 266, dtype: int64"
      ]
     },
     "execution_count": 20,
     "metadata": {},
     "output_type": "execute_result"
    }
   ],
   "source": [
    "df_train['WELL_NAME'].value_counts()"
   ]
  },
  {
   "cell_type": "markdown",
   "id": "f27dd0c9",
   "metadata": {},
   "source": [
    "### KCHARWORK - ключ режима работы скважины"
   ]
  },
  {
   "cell_type": "code",
   "execution_count": 24,
   "id": "f74c263c",
   "metadata": {},
   "outputs": [
    {
     "data": {
      "text/plain": [
       "0    20.0\n",
       "1    20.0\n",
       "2    20.0\n",
       "3    20.0\n",
       "4    20.0\n",
       "Name: KCHARWORK, dtype: float64"
      ]
     },
     "execution_count": 24,
     "metadata": {},
     "output_type": "execute_result"
    }
   ],
   "source": [
    "df_train['KCHARWORK'].head()"
   ]
  },
  {
   "cell_type": "code",
   "execution_count": 25,
   "id": "3932db10",
   "metadata": {},
   "outputs": [
    {
     "data": {
      "text/plain": [
       "11.0    127105\n",
       "20.0     50470\n",
       "Name: KCHARWORK, dtype: int64"
      ]
     },
     "execution_count": 25,
     "metadata": {},
     "output_type": "execute_result"
    }
   ],
   "source": [
    "df_train['KCHARWORK'].value_counts() # бинарная колонка, на тесте и практике, не факт что будет бинарной, но мы можем ебаунть вахот"
   ]
  },
  {
   "cell_type": "markdown",
   "id": "ffaf1e69",
   "metadata": {},
   "source": [
    "### CHARWORK - режим работы скважины "
   ]
  },
  {
   "cell_type": "code",
   "execution_count": 26,
   "id": "5f2d8bf1",
   "metadata": {},
   "outputs": [
    {
     "data": {
      "text/plain": [
       "0    НАГ\n",
       "1    НАГ\n",
       "2    НАГ\n",
       "3    НАГ\n",
       "4    НАГ\n",
       "Name: CHARWORK, dtype: object"
      ]
     },
     "execution_count": 26,
     "metadata": {},
     "output_type": "execute_result"
    }
   ],
   "source": [
    "df_train['CHARWORK'].head()"
   ]
  },
  {
   "cell_type": "code",
   "execution_count": 27,
   "id": "d44996d1",
   "metadata": {},
   "outputs": [
    {
     "data": {
      "text/plain": [
       "НЕФ    127105\n",
       "НАГ     50470\n",
       "Name: CHARWORK, dtype: int64"
      ]
     },
     "execution_count": 27,
     "metadata": {},
     "output_type": "execute_result"
    }
   ],
   "source": [
    "df_train['CHARWORK'].value_counts() # бинарная"
   ]
  },
  {
   "cell_type": "markdown",
   "id": "da19e650",
   "metadata": {},
   "source": [
    "### MEASURED_IN - дата и время замера"
   ]
  },
  {
   "cell_type": "code",
   "execution_count": 33,
   "id": "50715805",
   "metadata": {},
   "outputs": [
    {
     "data": {
      "text/plain": [
       "0    12:00:00\n",
       "1    00:00:00\n",
       "2    00:00:00\n",
       "3    00:00:00\n",
       "4    00:00:00\n",
       "Name: MEASURED_IN, dtype: object"
      ]
     },
     "execution_count": 33,
     "metadata": {},
     "output_type": "execute_result"
    }
   ],
   "source": [
    "df_train['MEASURED_IN'].head()"
   ]
  },
  {
   "cell_type": "code",
   "execution_count": 31,
   "id": "dd512248",
   "metadata": {},
   "outputs": [],
   "source": [
    "df_train['MEASURED_IN'] = pd.to_datetime(df_train['MEASURED_IN']).dt.time"
   ]
  },
  {
   "cell_type": "code",
   "execution_count": 32,
   "id": "b4615c2f",
   "metadata": {},
   "outputs": [
    {
     "data": {
      "text/plain": [
       "00:00:00    175998\n",
       "02:00:00       207\n",
       "02:02:00       186\n",
       "02:01:00       171\n",
       "02:10:00        59\n",
       "             ...  \n",
       "09:06:00         1\n",
       "09:07:00         1\n",
       "10:34:00         1\n",
       "13:02:00         1\n",
       "11:38:00         1\n",
       "Name: MEASURED_IN, Length: 412, dtype: int64"
      ]
     },
     "execution_count": 32,
     "metadata": {},
     "output_type": "execute_result"
    }
   ],
   "source": [
    "df_train['MEASURED_IN'].value_counts()"
   ]
  },
  {
   "cell_type": "code",
   "execution_count": null,
   "id": "291f6366",
   "metadata": {},
   "outputs": [],
   "source": [
    "# хз нах оно надо"
   ]
  },
  {
   "cell_type": "markdown",
   "id": "986b2291",
   "metadata": {},
   "source": [
    "### P_ZAB - забойное давление, атм"
   ]
  },
  {
   "cell_type": "code",
   "execution_count": 34,
   "id": "ded98b48",
   "metadata": {},
   "outputs": [
    {
     "data": {
      "text/plain": [
       "0   NaN\n",
       "1   NaN\n",
       "2   NaN\n",
       "3   NaN\n",
       "4   NaN\n",
       "Name: P_ZAB, dtype: float64"
      ]
     },
     "execution_count": 34,
     "metadata": {},
     "output_type": "execute_result"
    }
   ],
   "source": [
    "df_train['P_ZAB'].head()"
   ]
  },
  {
   "cell_type": "code",
   "execution_count": 35,
   "id": "40b96bdd",
   "metadata": {},
   "outputs": [
    {
     "data": {
      "text/plain": [
       "171.56    1721\n",
       "49.42     1712\n",
       "114.91    1656\n",
       "94.69     1615\n",
       "169.73    1495\n",
       "          ... \n",
       "156.92       1\n",
       "154.24       1\n",
       "122.25       1\n",
       "167.90       1\n",
       "119.66       1\n",
       "Name: P_ZAB, Length: 12120, dtype: int64"
      ]
     },
     "execution_count": 35,
     "metadata": {},
     "output_type": "execute_result"
    }
   ],
   "source": [
    "df_train['P_ZAB'].value_counts()"
   ]
  },
  {
   "cell_type": "markdown",
   "id": "4f76a34b",
   "metadata": {},
   "source": [
    "### INTAKE - приемистость, м3/сут"
   ]
  },
  {
   "cell_type": "code",
   "execution_count": 36,
   "id": "ae7f74c3",
   "metadata": {},
   "outputs": [
    {
     "data": {
      "text/plain": [
       "0    225.0\n",
       "1    225.0\n",
       "2    225.0\n",
       "3    225.0\n",
       "4    225.0\n",
       "Name: INTAKE, dtype: float64"
      ]
     },
     "execution_count": 36,
     "metadata": {},
     "output_type": "execute_result"
    }
   ],
   "source": [
    "df_train['INTAKE'].head()"
   ]
  },
  {
   "cell_type": "code",
   "execution_count": 37,
   "id": "acf9c365",
   "metadata": {},
   "outputs": [
    {
     "data": {
      "text/plain": [
       "0.0       127105\n",
       "225.0       1025\n",
       "250.0        320\n",
       "204.0        291\n",
       "648.0        209\n",
       "           ...  \n",
       "1221.0         1\n",
       "1229.0         1\n",
       "1446.0         1\n",
       "85.0           1\n",
       "1160.0         1\n",
       "Name: INTAKE, Length: 1500, dtype: int64"
      ]
     },
     "execution_count": 37,
     "metadata": {},
     "output_type": "execute_result"
    }
   ],
   "source": [
    "df_train['INTAKE'].value_counts()"
   ]
  },
  {
   "cell_type": "markdown",
   "id": "f365c148",
   "metadata": {},
   "source": [
    "### WELLHEAD_PRESSURE - устьевое давление"
   ]
  },
  {
   "cell_type": "code",
   "execution_count": 38,
   "id": "4659ae64",
   "metadata": {},
   "outputs": [
    {
     "data": {
      "text/plain": [
       "0    150.0\n",
       "1    150.0\n",
       "2    150.0\n",
       "3    150.0\n",
       "4    150.0\n",
       "Name: WELLHEAD_PRESSURE, dtype: float64"
      ]
     },
     "execution_count": 38,
     "metadata": {},
     "output_type": "execute_result"
    }
   ],
   "source": [
    "df_train['WELLHEAD_PRESSURE'].head()"
   ]
  },
  {
   "cell_type": "code",
   "execution_count": 39,
   "id": "a72c0277",
   "metadata": {},
   "outputs": [
    {
     "data": {
      "text/plain": [
       "140.0    3343\n",
       "130.0    3062\n",
       "155.0    2949\n",
       "150.0    2296\n",
       "141.0    2248\n",
       "         ... \n",
       "73.0        3\n",
       "68.0        3\n",
       "82.0        2\n",
       "102.0       2\n",
       "164.0       2\n",
       "Name: WELLHEAD_PRESSURE, Length: 93, dtype: int64"
      ]
     },
     "execution_count": 39,
     "metadata": {},
     "output_type": "execute_result"
    }
   ],
   "source": [
    "df_train['WELLHEAD_PRESSURE'].value_counts()"
   ]
  },
  {
   "cell_type": "markdown",
   "id": "5cd2f308",
   "metadata": {},
   "source": [
    "### IS_WORKING - состояние скважины"
   ]
  },
  {
   "cell_type": "code",
   "execution_count": 40,
   "id": "4758290b",
   "metadata": {},
   "outputs": [
    {
     "data": {
      "text/plain": [
       "0    True\n",
       "1    True\n",
       "2    True\n",
       "3    True\n",
       "4    True\n",
       "Name: IS_WORKING, dtype: bool"
      ]
     },
     "execution_count": 40,
     "metadata": {},
     "output_type": "execute_result"
    }
   ],
   "source": [
    "df_train['IS_WORKING'].head() # бинарный кал"
   ]
  },
  {
   "cell_type": "markdown",
   "id": "7df526f1",
   "metadata": {},
   "source": [
    "## Features"
   ]
  },
  {
   "cell_type": "markdown",
   "id": "764e09ea",
   "metadata": {},
   "source": [
    "### LIQ_RATE - дебит жидкости, м3/сут"
   ]
  },
  {
   "cell_type": "code",
   "execution_count": 41,
   "id": "f9037b9e",
   "metadata": {},
   "outputs": [
    {
     "data": {
      "text/plain": [
       "0    0.0\n",
       "1    0.0\n",
       "2    0.0\n",
       "3    0.0\n",
       "4    0.0\n",
       "Name: LIQ_RATE, dtype: float64"
      ]
     },
     "execution_count": 41,
     "metadata": {},
     "output_type": "execute_result"
    }
   ],
   "source": [
    "df_train['LIQ_RATE'].head()"
   ]
  },
  {
   "cell_type": "code",
   "execution_count": 42,
   "id": "4085cd9a",
   "metadata": {},
   "outputs": [
    {
     "data": {
      "text/plain": [
       "0.0       50470\n",
       "70.0        594\n",
       "71.0        540\n",
       "74.0        535\n",
       "68.0        533\n",
       "          ...  \n",
       "1151.0        1\n",
       "1410.0        1\n",
       "1440.0        1\n",
       "1427.0        1\n",
       "1497.0        1\n",
       "Name: LIQ_RATE, Length: 1538, dtype: int64"
      ]
     },
     "execution_count": 42,
     "metadata": {},
     "output_type": "execute_result"
    }
   ],
   "source": [
    "df_train['LIQ_RATE'].value_counts()"
   ]
  },
  {
   "cell_type": "markdown",
   "id": "161aebb5",
   "metadata": {},
   "source": [
    "### WATER_CUT - обводненность (объемная), %"
   ]
  },
  {
   "cell_type": "code",
   "execution_count": 43,
   "id": "c63668d6",
   "metadata": {},
   "outputs": [
    {
     "data": {
      "text/plain": [
       "0    0.0\n",
       "1    0.0\n",
       "2    0.0\n",
       "3    0.0\n",
       "4    0.0\n",
       "Name: WATER_CUT, dtype: float64"
      ]
     },
     "execution_count": 43,
     "metadata": {},
     "output_type": "execute_result"
    }
   ],
   "source": [
    "df_train['WATER_CUT'].head()"
   ]
  },
  {
   "cell_type": "code",
   "execution_count": 44,
   "id": "9771f566",
   "metadata": {},
   "outputs": [
    {
     "data": {
      "text/plain": [
       "0.0     50491\n",
       "4.0      6991\n",
       "3.0      6618\n",
       "5.0      5795\n",
       "1.0      4267\n",
       "        ...  \n",
       "97.0       72\n",
       "99.9       44\n",
       "99.0       11\n",
       "98.0        9\n",
       "0.5         7\n",
       "Name: WATER_CUT, Length: 102, dtype: int64"
      ]
     },
     "execution_count": 44,
     "metadata": {},
     "output_type": "execute_result"
    }
   ],
   "source": [
    "df_train['WATER_CUT'].value_counts()"
   ]
  },
  {
   "cell_type": "code",
   "execution_count": null,
   "id": "1da9c336",
   "metadata": {},
   "outputs": [],
   "source": []
  }
 ],
 "metadata": {
  "kernelspec": {
   "display_name": "Python 3 (ipykernel)",
   "language": "python",
   "name": "python3"
  },
  "language_info": {
   "codemirror_mode": {
    "name": "ipython",
    "version": 3
   },
   "file_extension": ".py",
   "mimetype": "text/x-python",
   "name": "python",
   "nbconvert_exporter": "python",
   "pygments_lexer": "ipython3",
   "version": "3.9.10"
  }
 },
 "nbformat": 4,
 "nbformat_minor": 5
}
