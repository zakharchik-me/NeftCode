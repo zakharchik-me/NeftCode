{
 "cells": [
  {
   "cell_type": "code",
   "execution_count": 3,
   "id": "9b098e4e",
   "metadata": {},
   "outputs": [],
   "source": [
    "import pandas as pd\n",
    "from datetime import datetime\n",
    "\n",
    "def days_parse(dates):\n",
    "    days = [int(day) if day.isdigit() else int(day[:-1]) for day in dates.split(',')]\n",
    "    return days\n",
    "\n",
    "def is_free(dt):\n",
    "    cal = pd.read_csv(f'http://xmlcalendar.ru/data/ru/{dt.year}/calendar.csv')\n",
    "    to_drop = [\n",
    "        'Год/Месяц',\n",
    "        'Всего рабочих дней', 'Всего праздничных и выходных дней'\n",
    "        , 'Количество рабочих часов при 40-часовой рабочей неделе'\n",
    "        , 'Количество рабочих часов при 36-часовой рабочей неделе'\n",
    "        , 'Количество рабочих часов при 24-часовой рабочей неделе'\n",
    "    ]\n",
    "\n",
    "    cal = cal.drop(columns=to_drop)\n",
    "    cal = cal.transpose()\n",
    "    cal.columns = ['dates']\n",
    "    \n",
    "    cal.dates = cal.dates.apply(days_parse)\n",
    "    cal.index = range(1, 13)\n",
    "\n",
    "    return dt.day in cal.iloc[dt.month - 1].dates"
   ]
  },
  {
   "cell_type": "code",
   "execution_count": 4,
   "id": "49f41a7c",
   "metadata": {},
   "outputs": [
    {
     "data": {
      "text/plain": [
       "True"
      ]
     },
     "execution_count": 4,
     "metadata": {},
     "output_type": "execute_result"
    }
   ],
   "source": [
    "x = datetime.strptime('2021-01-02', '%Y-%m-%d')\n",
    "is_free(x)"
   ]
  },
  {
   "cell_type": "code",
   "execution_count": 8,
   "id": "93ae03a7",
   "metadata": {},
   "outputs": [
    {
     "data": {
      "text/plain": [
       "False"
      ]
     },
     "execution_count": 8,
     "metadata": {},
     "output_type": "execute_result"
    }
   ],
   "source": [
    "x = datetime.strptime('2021-02-02', '%Y-%m-%d')\n",
    "is_free(x)"
   ]
  },
  {
   "cell_type": "code",
   "execution_count": 6,
   "id": "4329dcf7",
   "metadata": {},
   "outputs": [
    {
     "data": {
      "text/plain": [
       "True"
      ]
     },
     "execution_count": 6,
     "metadata": {},
     "output_type": "execute_result"
    }
   ],
   "source": [
    "x = datetime.strptime('2021-12-31', '%Y-%m-%d')\n",
    "is_free(x)"
   ]
  }
 ],
 "metadata": {
  "kernelspec": {
   "display_name": "Python 3 (ipykernel)",
   "language": "python",
   "name": "python3"
  },
  "language_info": {
   "codemirror_mode": {
    "name": "ipython",
    "version": 3
   },
   "file_extension": ".py",
   "mimetype": "text/x-python",
   "name": "python",
   "nbconvert_exporter": "python",
   "pygments_lexer": "ipython3",
   "version": "3.9.7"
  }
 },
 "nbformat": 4,
 "nbformat_minor": 5
}
